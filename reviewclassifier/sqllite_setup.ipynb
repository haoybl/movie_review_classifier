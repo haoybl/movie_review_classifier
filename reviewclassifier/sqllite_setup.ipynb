{
 "cells": [
  {
   "cell_type": "markdown",
   "metadata": {
    "collapsed": true
   },
   "source": [
    "# Desirialize Objects\n",
    "\n",
    "<p style=\"text-align:justify\"> Let us load the saved objects and unpickle the classifier into our current session.</p>"
   ]
  },
  {
   "cell_type": "code",
   "execution_count": 1,
   "metadata": {
    "collapsed": true
   },
   "outputs": [],
   "source": [
    "import pickle\n",
    "import os\n",
    "\n",
    "# Import the vectorizer.py Python script file\n",
    "from vectorizer import vect\n",
    "\n",
    "# Unpickle the classifier\n",
    "clf = pickle.load(open(os.path.join('pkl_objects', 'classifier.pkl'), 'rb'))"
   ]
  },
  {
   "cell_type": "markdown",
   "metadata": {},
   "source": [
    "# SQLite setup\n",
    "\n",
    "<p style=\"text-align:justify\">Let us set up a simple SQLite database. It is a open source SQL database engine that doesn't require a seperate server to operate. So it is highly useful for simple web applications.</p>"
   ]
  },
  {
   "cell_type": "code",
   "execution_count": 7,
   "metadata": {
    "collapsed": false
   },
   "outputs": [],
   "source": [
    "import sqlite3\n",
    "\n",
    "# Create a connection to sqlite\n",
    "conn = sqlite3.connect('reviews.sqlite')\n",
    "c = conn.cursor()\n",
    "\n",
    "# Drop table if already it exists\n",
    "c.execute('DROP TABLE reviews_db')\n",
    "\n",
    "# Create a table \n",
    "c.execute('CREATE TABLE reviews_db' ' (review TEXT, sentiment INTEGER, date TEXT)')\n",
    "\n",
    "conn.commit()\n",
    "conn.close()"
   ]
  },
  {
   "cell_type": "markdown",
   "metadata": {
    "collapsed": true
   },
   "source": [
    "# Final Steps\n",
    "\n",
    "<p style=\"text-align:justify\"> Now we are ready to run our Flask web application, the required files are created in the reviewclassifier subdirectory of the movie_review_classifier directory.</p>\n",
    "> Navigate to re"
   ]
  }
 ],
 "metadata": {
  "anaconda-cloud": {},
  "kernelspec": {
   "display_name": "Python [conda root]",
   "language": "python",
   "name": "conda-root-py"
  },
  "language_info": {
   "codemirror_mode": {
    "name": "ipython",
    "version": 2
   },
   "file_extension": ".py",
   "mimetype": "text/x-python",
   "name": "python",
   "nbconvert_exporter": "python",
   "pygments_lexer": "ipython2",
   "version": "2.7.12"
  }
 },
 "nbformat": 4,
 "nbformat_minor": 1
}
