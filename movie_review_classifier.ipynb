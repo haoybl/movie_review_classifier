{
 "cells": [
  {
   "cell_type": "markdown",
   "metadata": {},
   "source": [
    "# Machine Learning Nanodegree\n",
    "\n",
    "## Project: Movie Review Calssifier\n",
    "\n",
    "<p style=\"text-align:justify\">This project is based on Sentiment analysis, which is also called opinion analysis, is a subdiscipline of the Natural Language Processing; it analyzes the polarity of documents. He we wil be working on a large dataset of movie reviews from the **Internet Movie Database (IMDb)**. Which consists of 50,000 movie reviews that are labeled as either positive or negative. Here, positive means that a movie was rated with more than six stars and negative means that a movie was rated below five stars, neutral reviews are not included in the datset.</p>\n",
    "\n",
    "## Load Dataset\n",
    "\n",
    "> * <p style=\"text-align:justify\">Make sure your data is prepared before loading, use prepare_data.ipynb notebook to prepare data.</p>\n",
    "> * <p style=\"text-align:justify\"> Let us confirm that we successfully saved the data in the rigth format\n",
    "    by loading the CSV file. </p>"
   ]
  },
  {
   "cell_type": "code",
   "execution_count": 1,
   "metadata": {
    "collapsed": false
   },
   "outputs": [
    {
     "data": {
      "text/html": [
       "<div>\n",
       "<table border=\"1\" class=\"dataframe\">\n",
       "  <thead>\n",
       "    <tr style=\"text-align: right;\">\n",
       "      <th></th>\n",
       "      <th>review</th>\n",
       "      <th>sentiment</th>\n",
       "    </tr>\n",
       "  </thead>\n",
       "  <tbody>\n",
       "    <tr>\n",
       "      <th>0</th>\n",
       "      <td>Election is a Chinese mob movie, or triads in ...</td>\n",
       "      <td>1</td>\n",
       "    </tr>\n",
       "    <tr>\n",
       "      <th>1</th>\n",
       "      <td>I was just watching a Forensic Files marathon ...</td>\n",
       "      <td>0</td>\n",
       "    </tr>\n",
       "    <tr>\n",
       "      <th>2</th>\n",
       "      <td>Police Story is a stunning series of set piece...</td>\n",
       "      <td>1</td>\n",
       "    </tr>\n",
       "    <tr>\n",
       "      <th>3</th>\n",
       "      <td>Dear Readers,&lt;br /&gt;&lt;br /&gt;The final battle betw...</td>\n",
       "      <td>1</td>\n",
       "    </tr>\n",
       "    <tr>\n",
       "      <th>4</th>\n",
       "      <td>I have seen The Perfect Son about three times....</td>\n",
       "      <td>1</td>\n",
       "    </tr>\n",
       "  </tbody>\n",
       "</table>\n",
       "</div>"
      ],
      "text/plain": [
       "                                              review  sentiment\n",
       "0  Election is a Chinese mob movie, or triads in ...          1\n",
       "1  I was just watching a Forensic Files marathon ...          0\n",
       "2  Police Story is a stunning series of set piece...          1\n",
       "3  Dear Readers,<br /><br />The final battle betw...          1\n",
       "4  I have seen The Perfect Son about three times....          1"
      ]
     },
     "execution_count": 1,
     "metadata": {},
     "output_type": "execute_result"
    }
   ],
   "source": [
    "import pandas as pd\n",
    "\n",
    "# Load data\n",
    "dataframe = pd.read_csv('./movie_reviews_data.csv')\n",
    "\n",
    "# Display a chunk of data\n",
    "dataframe.head()"
   ]
  },
  {
   "cell_type": "markdown",
   "metadata": {},
   "source": [
    "## Data Distribution\n",
    "<p style=\"text-align:justify\">The Internet Movie Database (IMDb) dataset consists of 50,000 movie reviews that are labeled as either positive or negative. From the below vizualization we can clearly see that the provided dataset is 25000 data points of postive reviews and 25000 data points of negative reviews.</p>"
   ]
  },
  {
   "cell_type": "code",
   "execution_count": 2,
   "metadata": {
    "collapsed": false
   },
   "outputs": [
    {
     "data": {
      "image/png": "[encoded data removed]",
      "text/plain": [
       "<matplotlib.figure.Figure at 0xc92b110>"
      ]
     },
     "metadata": {},
     "output_type": "display_data"
    }
   ],
   "source": [
    "import matplotlib.pyplot as plt\n",
    "import numpy as np\n",
    "# Load the polarity data\n",
    "x = dataframe['sentiment']\n",
    "\n",
    "labels = ['Negative', 'Positive']\n",
    "plt.xlabel('Polarity')\n",
    "plt.ylabel('Data Points')\n",
    "plt.title(\"Polarity Distribution\")\n",
    "plt.hist(x)\n",
    "#plt.xticks(x, labels, rotation='vertical')\n",
    "plt.xticks(np.arange(0,2,1), labels, rotation='vertical')\n",
    "plt.grid(True)\n",
    "plt.show()"
   ]
  },
  {
   "cell_type": "markdown",
   "metadata": {},
   "source": [
    "## Cleaning text data\n",
    "\n",
    "* <p style=\"text-align:justify\">Before we build our bag-of-words model we need to clean our text data by removing HTML markup as well as puncuation and other non-latter characters present in the reviews text.</p>\n",
    "* <p style=\"text-align:justify\">For this purpose we will use Python's regular expression (regex) library.</p>"
   ]
  },
  {
   "cell_type": "code",
   "execution_count": 3,
   "metadata": {
    "collapsed": false
   },
   "outputs": [],
   "source": [
    "import re # regular expression\n",
    "\n",
    "# import nltk\n",
    "# nltk.download(stopwords)\n",
    "\n",
    "from nltk.corpus import stopwords\n",
    "\n",
    "# Load the downloaded english stop words\n",
    "stop = stopwords.words('english')\n",
    "\n",
    "def tokenizer(text):\n",
    "    \"\"\" Returns clean and tokenized text words. \"\"\"\n",
    "    text = re.sub('<[^>]*>', '', text)\n",
    "    emos = re.findall('(?::|;}=)(?:-)?(?:\\)|\\(|D|P)', text)\n",
    "    text = re.sub('[\\W]+', ' ', text.lower()) +' '.join(emos).replace('-', '')\n",
    "    tokenized = [w for w in text.split() if w not in stop]\n",
    "    return tokenized\n",
    "\n",
    "def stream(path):\n",
    "    \"\"\" A generator function that reads in and returns one document at a time \"\"\"\n",
    "    with open(path, 'r') as csv:\n",
    "        next(csv)\n",
    "        for line in csv:\n",
    "            text, label = line[:-3], int(line[-2])\n",
    "            yield text, label\n",
    "\n",
    "def minibatch(stream, size):\n",
    "    \"\"\"Returns a perticular number of documents specified by the size parameter \"\"\"\n",
    "    docs, y = [], []\n",
    "    try:\n",
    "        for _ in range(size):\n",
    "            text, label = next(stream)\n",
    "            docs.append(text)\n",
    "            y.append(label)\n",
    "    except StopIteration:\n",
    "            return None, None\n",
    "    return docs, y"
   ]
  },
  {
   "cell_type": "markdown",
   "metadata": {},
   "source": [
    "# Transforming words into feature vectors and classification\n",
    "\n",
    "## Bag-of-words model\n",
    "\n",
    "* <p style=\"text-align:justify\">To transform an array of text data into a bag-of-words, we use HashingVectorizer and CountVectorizer classes implemented in scikit-learn.</p>\n",
    "* <p style=\"text-align:justify\">HashingVectorizer is data-independent unlike CountVectorizer.</p>\n",
    "\n",
    "## Classification\n",
    "* <p style=\"text-align:justify\">Let us initialize the logestic regression classifier by setting the loss prameter of the SGDClassifier to log.</p>\n",
    "* <p style=\"text-align:justify\">Let us also test the classification performences by Support Vector Machines and Naive Baye's classifiers.</p>"
   ]
  },
  {
   "cell_type": "code",
   "execution_count": 16,
   "metadata": {
    "collapsed": false
   },
   "outputs": [],
   "source": [
    "from sklearn.feature_extraction.text import HashingVectorizer\n",
    "from sklearn.linear_model import SGDClassifier\n",
    "from sklearn.naive_bayes import MultinomialNB\n",
    "from sklearn.feature_extraction.text import CountVectorizer\n",
    "\n",
    "\"\"\" Initialize Hashingvectorizer with our tokenizer function and features \"\"\"\n",
    "vect = HashingVectorizer(decode_error=\"ignore\",\n",
    "                        n_features=2**21,\n",
    "                        preprocessor=None,\n",
    "                        tokenizer=tokenizer)\n",
    "\n",
    "# Convert words to vectors for Navie Baye's classifier\n",
    "vectorizer = CountVectorizer(stop_words='english')\n",
    "\n",
    "# Logistic Regression\n",
    "clf1 = SGDClassifier(loss = 'log', random_state=1, n_iter=1)\n",
    "\n",
    "# Support Vector Machines\n",
    "clf2 = SGDClassifier(loss = 'hinge', penalty='l2', random_state=1, n_iter=1)\n",
    "\n",
    "# Naive Baye's\n",
    "clf3 = MultinomialNB()\n",
    "\n",
    "doc_stream = stream(path='./movie_reviews_data.csv')"
   ]
  },
  {
   "cell_type": "markdown",
   "metadata": {},
   "source": [
    "# Out-of-core Learning\n",
    "\n",
    "<p style=\"text-align:justify\"> Out-of-core or external memory algorithms are algorithms that are designed to process data that is too large to fit into a computer's main memory at one time. </p>\n",
    "\n",
    "> * <p style=\"text-align:justify\">Let us initialize the progress indicator in order to estimate the progress of our learning model.</p>\n",
    "> * <p style=\"text-align:justify\">The progress indicator with 45 iterations, which loops for 45 minibatches (1000 documents for minibatch) of documents.</p>"
   ]
  },
  {
   "cell_type": "code",
   "execution_count": 17,
   "metadata": {
    "collapsed": false
   },
   "outputs": [
    {
     "name": "stderr",
     "output_type": "stream",
     "text": [
      "[100 %] Time elapsed: 00:04:04 | ETA: 00:00:00\n",
      "Total time elapsed: 00:04:04\n"
     ]
    }
   ],
   "source": [
    "import pyprind\n",
    "import numpy as np\n",
    "\n",
    "# Progress Indicator\n",
    "pper = pyprind.ProgPercent(45)\n",
    "\n",
    "classes = np.array([0,1])\n",
    "\n",
    "# Iterate 1000 documents for every batch total of 45,000 documents\n",
    "for _ in range(45):\n",
    "    X_train, y_train = minibatch(doc_stream, size=1000)\n",
    "    if not X_train:\n",
    "        break\n",
    "    # Transform the words into vectors\n",
    "    X_train1 = vectorizer.fit_transform([r for r in X_train])\n",
    "    X_train = vect.transform(X_train)\n",
    "    \n",
    "    # Fit the classifiers\n",
    "    clf1.partial_fit(X_train, y_train, classes=classes)\n",
    "    clf2.partial_fit(X_train, y_train, classes=classes)\n",
    "    clf3.fit(X_train1, y_train)\n",
    "    \n",
    "    pper.update()"
   ]
  },
  {
   "cell_type": "markdown",
   "metadata": {},
   "source": [
    "## Evaluate the performance\n",
    "\n",
    "<p style=\"text-align:justify\"> Performance measure is the way you want to evaualte a solution to the problem. It is the measurement you will make of the predictions made by a trained model on the test dataset.</p>\n",
    "> * Let us evaluate the performance of our model using the last 5000 documents.\n",
    "> * Calculate the classification accuracies of the three classifiers"
   ]
  },
  {
   "cell_type": "code",
   "execution_count": 18,
   "metadata": {
    "collapsed": false
   },
   "outputs": [
    {
     "name": "stdout",
     "output_type": "stream",
     "text": [
      "Logistic Regression Accuracy: 0.866\n",
      "SVM Accuracy: 0.873\n",
      "Naive Bayes Accuracy: 0.803\n"
     ]
    }
   ],
   "source": [
    "\"\"\"\n",
    "    Let us stream and evaluate our model using last 5000 documents.\n",
    "\"\"\"\n",
    "X_test, y_test = minibatch(doc_stream, size=5000)\n",
    "X_test1 = vectorizer.transform([j for j in X_test])\n",
    "X_test = vect.transform(X_test)\n",
    "\n",
    "lg_acc = clf1.score(X_test, y_test)\n",
    "svm_acc = clf2.score(X_test, y_test)\n",
    "nb_acc = clf3.score(X_test1, y_test)\n",
    "# Accuracies \n",
    "print 'Logistic Regression Accuracy: {:.3f}'.format(lg_acc)\n",
    "print 'SVM Accuracy: {:.3f}'.format(svm_acc)\n",
    "print 'Naive Bayes Accuracy: {:.3f}'.format(nb_acc)"
   ]
  },
  {
   "cell_type": "code",
   "execution_count": 29,
   "metadata": {
    "collapsed": false
   },
   "outputs": [
    {
     "data": {
      "image/png": "[encoded data removed]",
      "text/plain": [
       "<matplotlib.figure.Figure at 0x12dfac30>"
      ]
     },
     "metadata": {},
     "output_type": "display_data"
    }
   ],
   "source": [
    "N = 1\n",
    "\n",
    "ind = np.arange(N)\n",
    "width = 0.25\n",
    "\n",
    "fig, ax = plt.subplots(figsize=(7, 4))\n",
    "\n",
    "bar1 = ax.bar(ind, lg_acc, width, color='r')\n",
    "\n",
    "bar2 = ax.bar(ind+width, svm_acc, width, color='b')\n",
    "\n",
    "bar3 = ax.bar(ind+width*2, nb_acc, width, color='g')\n",
    "\n",
    "ax.set_ylabel('Accuracy')\n",
    "ax.set_title('Comparision of Accuracy scores')\n",
    "ax.set_xticks(np.arange(0,3,1))\n",
    "#ax.set_xticklabels(('Logistic Regression', 'SVM', 'Naive Bayes' ))\n",
    "ax.set_yticks(np.arange(0.0,1.0, 0.1))\n",
    "ax.legend((bar1[0],bar2[0],bar3[0]),('Logistic Regression','SVM','Naive Bayes'))\n",
    "\n",
    "def autolabel(rects):\n",
    "    \"\"\"\n",
    "    Attach a text label above each bar displaying its height\n",
    "    \"\"\"\n",
    "    for rect in rects:\n",
    "        height = rect.get_height()\n",
    "        ax.text(rect.get_x() + rect.get_width()/2., 1.05*height,\n",
    "                '%.2f' % (height),\n",
    "                ha='center', va='bottom')\n",
    "\n",
    "autolabel(bar1)\n",
    "autolabel(bar2)\n",
    "autolabel(bar3)\n",
    "\n",
    "\n",
    "plt.show()"
   ]
  },
  {
   "cell_type": "markdown",
   "metadata": {},
   "source": [
    "# Predicitons and Metrics:\n",
    "* <p style=\"text-align:justify\">Let us make predictions with the remaining 5000 documetns.</p>\n",
    "* <p style=\"text-align:justify\">Calculate:</p>\n",
    "  * **Recall**\n",
    "  * **Precision**\n",
    "  * **F-Score**"
   ]
  },
  {
   "cell_type": "code",
   "execution_count": 67,
   "metadata": {
    "collapsed": false,
    "scrolled": false
   },
   "outputs": [
    {
     "name": "stdout",
     "output_type": "stream",
     "text": [
      "Logistic regression Precision: 0.88, Recall: 0.84, F-Score: 0.86\n",
      "SVM Precision: 0.91, Recall: 0.82, F-Score: 0.86\n",
      "Naive Bayes Precision: 0.85, Recall: 0.70, F-Score: 0.77\n"
     ]
    }
   ],
   "source": [
    "from sklearn.metrics import precision_recall_fscore_support\n",
    "import numpy as np\n",
    "\n",
    "# Predictions of three classifiers\n",
    "y_pred1 = clf1.predict(X_test)\n",
    "y_pred2 = clf2.predict(X_test)\n",
    "y_pred3 = clf3.predict(X_test1)\n",
    "\n",
    "# Calculate scores of each classifier\n",
    "lg = precision_recall_fscore_support(y_test, y_pred1, average='binary')\n",
    "svm = precision_recall_fscore_support(y_test, y_pred2, average='binary')\n",
    "nb = precision_recall_fscore_support(y_test, y_pred3, average='binary')\n",
    "\n",
    "# Print scores\n",
    "print 'Logistic regression Precision: {:.2f}, Recall: {:.2f}, F-Score: {:.2f}'.format(lg[0],lg[1],lg[2])\n",
    "print 'SVM Precision: {:.2f}, Recall: {:.2f}, F-Score: {:.2f}'.format(svm[0],svm[1],svm[2])\n",
    "print 'Naive Bayes Precision: {:.2f}, Recall: {:.2f}, F-Score: {:.2f}'.format(nb[0],nb[1],nb[2])\n",
    "\n"
   ]
  },
  {
   "cell_type": "markdown",
   "metadata": {},
   "source": [
    "## Plot and compare the scores\n",
    "\n",
    "<p style=\"text-align:justify\"> We have calculated the precision, recall and f-scores of Logistic Regression, SVM and Naive Bayes models. Let us plot the calculated scores.</p>\n",
    "> **Note:** The basic rule to choose a best classifier is the recall and f-socres should be higher and the precision value should be lower"
   ]
  },
  {
   "cell_type": "code",
   "execution_count": 68,
   "metadata": {
    "collapsed": false
   },
   "outputs": [
    {
     "data": {
      "image/png": "[encoded data removed]",
      "text/plain": [
       "<matplotlib.figure.Figure at 0x12924c10>"
      ]
     },
     "metadata": {},
     "output_type": "display_data"
    }
   ],
   "source": [
    "\n",
    "def split_scores(i):\n",
    "    return [lg[i],svm[i],nb[i]]\n",
    "\n",
    "precision = split_scores(0)\n",
    "recall = split_scores(1)\n",
    "f_score = split_scores(2)\n",
    "\n",
    "\n",
    "\"\"\"\n",
    "  Let us plot and compare the calulated precision, recall and f-scores of each the classifier.\n",
    "\"\"\"\n",
    "\n",
    "N = 3\n",
    "\n",
    "ind = np.arange(N)\n",
    "width = 0.25\n",
    "\n",
    "fig, ax = plt.subplots(figsize=(10, 8))\n",
    "\n",
    "bar1 = ax.bar(ind, precision, width, color='r')\n",
    "\n",
    "bar2 = ax.bar(ind+width, recall, width, color='b')\n",
    "\n",
    "bar3 = ax.bar(ind+width*2, f_score, width, color='g')\n",
    "\n",
    "ax.set_ylabel('Scores')\n",
    "ax.set_title('Analysis of performance measures on Opinion classification techniques')\n",
    "ax.set_xticks(np.arange(0,3,1))\n",
    "ax.set_xticklabels(('Logistic Regression', 'SVM', 'Naive Bayes' ))\n",
    "ax.set_yticks(np.arange(0.0,1.0,0.1))\n",
    "ax.legend((bar1[0],bar2[0],bar3[0]),('Precision','Recall','F-Score'))\n",
    "\n",
    "def autolabel(rects):\n",
    "    \"\"\"\n",
    "    Attach a text label above each bar displaying its height\n",
    "    \"\"\"\n",
    "    for rect in rects:\n",
    "        height = rect.get_height()\n",
    "        ax.text(rect.get_x() + rect.get_width()/2., 1.05*height,\n",
    "                '%.2f' % (height),\n",
    "                ha='center', va='bottom')\n",
    "\n",
    "autolabel(bar1)\n",
    "autolabel(bar2)\n",
    "autolabel(bar3)\n",
    "\n",
    "\n",
    "plt.show()"
   ]
  },
  {
   "cell_type": "markdown",
   "metadata": {
    "collapsed": false
   },
   "source": [
    "# Choosing a model\n",
    "\n",
    "<p style=\"text-align:justify\"> By comparing the scores of the three classification models, I choose Logistic Regression model for my project use. As it has better recall and f-scores compared to SVM and Naive Bayes models and also accuracy achieved by the Logistic Regression model is of 86 percent.</p>\n",
    "\n",
    "> Let us fit the last 5,000 documents to update our model.\n"
   ]
  },
  {
   "cell_type": "code",
   "execution_count": 69,
   "metadata": {
    "collapsed": false
   },
   "outputs": [
    {
     "data": {
      "text/plain": [
       "SGDClassifier(alpha=0.0001, average=False, class_weight=None, epsilon=0.1,\n",
       "       eta0=0.0, fit_intercept=True, l1_ratio=0.15,\n",
       "       learning_rate='optimal', loss='log', n_iter=1, n_jobs=1,\n",
       "       penalty='l2', power_t=0.5, random_state=1, shuffle=True, verbose=0,\n",
       "       warm_start=False)"
      ]
     },
     "execution_count": 69,
     "metadata": {},
     "output_type": "execute_result"
    }
   ],
   "source": [
    "clf1.partial_fit(X_test,y_test)"
   ]
  },
  {
   "cell_type": "markdown",
   "metadata": {},
   "source": [
    "## Saving current state for our classifier\n",
    "\n",
    "<p style=\"text-align:justify\">We don't want to train our Machine Learning model every time we close our Python interpretor or notebook. With the use of Pythons in-built pickle module we can serialize and deserialize Python object structers to compact byte code. So we can save the current state of our classifier and we can reload it when ever we need to use in future.</p>"
   ]
  },
  {
   "cell_type": "code",
   "execution_count": 70,
   "metadata": {
    "collapsed": false
   },
   "outputs": [],
   "source": [
    "import pickle\n",
    "import os\n",
    "\n",
    "# Create a reviewclassifier directory and pkl_objects subdirectory\n",
    "dest = os.path.join('reviewclassifier', 'pkl_objects')\n",
    "\n",
    "if not os.path.exists(dest):\n",
    "    os.makedirs(dest)\n",
    "\n",
    "# Save serialized Python objects using pickle's dump method\n",
    "pickle.dump(stop,\n",
    "           open(os.path.join(dest, 'stopwords.pkl'), 'wb'),\n",
    "           protocol=2)\n",
    "pickle.dump(clf1,\n",
    "           open(os.path.join(dest, 'classifier.pkl'), 'wb'),\n",
    "           protocol=2)"
   ]
  },
  {
   "cell_type": "markdown",
   "metadata": {},
   "source": [
    "# Further Directions\n",
    "\n",
    "<p style=\"text-align:justify\"> The is no need to save the HashigVectorizer, since it does not need to be fitted. Here I created a Python script file vectorizer.py, from which we can import into our current session.</p>\n",
    "\n",
    "> We have pickled the Python objects and created a script file, now we can test the object by deserializing them.\n",
    "> * Restart the IPython Notebook \n",
    "> * Navigate to reviewclassifer directory\n",
    "> * Load sqlite_setup.ipynb notebook file"
   ]
  }
 ],
 "metadata": {
  "anaconda-cloud": {},
  "kernelspec": {
   "display_name": "Python [conda root]",
   "language": "python",
   "name": "conda-root-py"
  },
  "language_info": {
   "codemirror_mode": {
    "name": "ipython",
    "version": 2
   },
   "file_extension": ".py",
   "mimetype": "text/x-python",
   "name": "python",
   "nbconvert_exporter": "python",
   "pygments_lexer": "ipython2",
   "version": "2.7.12"
  }
 },
 "nbformat": 4,
 "nbformat_minor": 1
}
