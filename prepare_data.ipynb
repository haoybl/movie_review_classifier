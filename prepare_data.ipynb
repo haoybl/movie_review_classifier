{
 "cells": [
  {
   "cell_type": "markdown",
   "metadata": {},
   "source": [
    "# PREPARE DATA\n",
    "\n",
    "## Getting Started\n",
    "\n",
    "* <p style=\"text-align:justify\">To begin working with this project we need to download the dataset form the bellow link:</p>\n",
    "\n",
    "> IMDb Movie Reviews Dataset (84.1 MB): <a href=\"http://ai.stanford.edu/~amaas/data/sentiment/aclImdb_v1.tar.gz\" target=\"_blank\">Download</a>\n",
    "\n",
    "* <p style=\"text-align:justify\">To extract the downloaded gzip-compressed tarball archive, we need to 7-Zip (<a href=\"http://www.7-zip.org\" target=\"_blank\">http://www.7-zip.org</a>) software.</p>\n",
    "\n",
    "* <p style=\"text-align:justify\">The extracted gzip file need to be further extracted with a zip file extracter into the movie_review_classifier directory.<p>\n",
    "\n",
    "* <p style=\"text-align:justify\">After successfully extracted the dataset, we will now assemble the individual text documents from the deompressed downloaded archive into a single CSV file using DataFrame object.</p>"
   ]
  },
  {
   "cell_type": "code",
   "execution_count": 1,
   "metadata": {
    "collapsed": false
   },
   "outputs": [
    {
     "name": "stderr",
     "output_type": "stream",
     "text": [
      "[100 %] Time elapsed: 00:24:33 | ETA: 00:00:00\n",
      "Total time elapsed: 00:24:33\n"
     ]
    }
   ],
   "source": [
    "# Import libraries necessary for this project\n",
    "import pandas as pd\n",
    "import matplotlib.pyplot as plt\n",
    "import pyprind # Allows to visualize the progress and estimated time until completion\n",
    "import os\n",
    "\n",
    "pper = pyprind.ProgPercent(50000)\n",
    "labels = {'pos':1,'neg':0}\n",
    "\n",
    "# Load data frame\n",
    "dataframe = pd.DataFrame()\n",
    "\n",
    "# Nested for loops to iterate text files over subdirectories\n",
    "for s in ('test', 'train'):\n",
    "    for n in ('pos', 'neg'):\n",
    "        path ='./aclImdb/%s/%s' % (s, n)\n",
    "        for file in os.listdir(path):\n",
    "            with open(os.path.join(path, file), 'r') as infile:\n",
    "                text = infile.read()\n",
    "            dataframe = dataframe.append([[text, labels[n]]], ignore_index=True)\n",
    "            pper.update()\n",
    "            \n",
    "dataframe.columns = ['review', 'sentiment']"
   ]
  },
  {
   "cell_type": "markdown",
   "metadata": {},
   "source": [
    "## Shuffle the data\n",
    "\n",
    "<p style=\"text-align:justify\"> The extrated data is sorted in order, we can not trian the ordered datset. \n",
    "Here, we will shuffle the above sorted dataset using permutation function from the np.random submodule.</p>"
   ]
  },
  {
   "cell_type": "code",
   "execution_count": 3,
   "metadata": {
    "collapsed": false
   },
   "outputs": [
    {
     "name": "stdout",
     "output_type": "stream",
     "text": [
      "movie_reviews_data.csv file is created\n"
     ]
    }
   ],
   "source": [
    "import numpy as np\n",
    "\n",
    "np.random.seed(0)\n",
    "\n",
    "# Shuffle data\n",
    "dataframe = dataframe.reindex(np.random.permutation(dataframe.index))\n",
    "\n",
    "# Convert into a single CSV file.\n",
    "dataframe.to_csv('./movie_reviews_data.csv', index=False)\n",
    "\n",
    "print \"movie_reviews_data.csv file is created\""
   ]
  }
 ],
 "metadata": {
  "kernelspec": {
   "display_name": "Python [conda root]",
   "language": "python",
   "name": "conda-root-py"
  },
  "language_info": {
   "codemirror_mode": {
    "name": "ipython",
    "version": 2
   },
   "file_extension": ".py",
   "mimetype": "text/x-python",
   "name": "python",
   "nbconvert_exporter": "python",
   "pygments_lexer": "ipython2",
   "version": "2.7.12"
  }
 },
 "nbformat": 4,
 "nbformat_minor": 1
}
